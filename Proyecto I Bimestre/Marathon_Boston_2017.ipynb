{
 "cells": [
  {
   "cell_type": "code",
   "execution_count": 7,
   "metadata": {},
   "outputs": [],
   "source": [
    "import numpy as np\n",
    "import pandas as pd"
   ]
  },
  {
   "cell_type": "code",
   "execution_count": 23,
   "metadata": {},
   "outputs": [
    {
     "ename": "ValueError",
     "evalue": "Some errors were detected !\n    Line #2 (got 22 columns instead of 21)\n    Line #3 (got 22 columns instead of 21)\n    Line #4 (got 22 columns instead of 21)\n    Line #5 (got 22 columns instead of 21)\n    Line #6 (got 22 columns instead of 21)\n    Line #7 (got 22 columns instead of 21)\n    Line #8 (got 22 columns instead of 21)\n    Line #9 (got 22 columns instead of 21)\n    Line #10 (got 22 columns instead of 21)\n    Line #11 (got 22 columns instead of 21)",
     "output_type": "error",
     "traceback": [
      "\u001b[1;31m---------------------------------------------------------------------------\u001b[0m",
      "\u001b[1;31mValueError\u001b[0m                                Traceback (most recent call last)",
      "\u001b[1;32m<ipython-input-23-b06b61550e58>\u001b[0m in \u001b[0;36m<module>\u001b[1;34m()\u001b[0m\n\u001b[1;32m----> 1\u001b[1;33m \u001b[0mmarathon\u001b[0m \u001b[1;33m=\u001b[0m \u001b[0mnp\u001b[0m\u001b[1;33m.\u001b[0m\u001b[0mgenfromtxt\u001b[0m\u001b[1;33m(\u001b[0m\u001b[1;34m'data/marathon_boston_2017_test.csv'\u001b[0m\u001b[1;33m,\u001b[0m \u001b[0mdelimiter\u001b[0m\u001b[1;33m=\u001b[0m\u001b[1;34m','\u001b[0m\u001b[1;33m)\u001b[0m\u001b[1;33m\u001b[0m\u001b[0m\n\u001b[0m\u001b[0;32m      2\u001b[0m \u001b[0mprint\u001b[0m\u001b[1;33m(\u001b[0m\u001b[0mmarathon\u001b[0m\u001b[1;33m)\u001b[0m\u001b[1;33m\u001b[0m\u001b[0m\n\u001b[0;32m      3\u001b[0m \u001b[1;31m#df=pd.read_csv('data/marathon_boston_results_2017.csv', sep=',',header=None)\u001b[0m\u001b[1;33m\u001b[0m\u001b[1;33m\u001b[0m\u001b[0m\n\u001b[0;32m      4\u001b[0m \u001b[1;31m#df.values\u001b[0m\u001b[1;33m\u001b[0m\u001b[1;33m\u001b[0m\u001b[0m\n",
      "\u001b[1;32mC:\\ProgramData\\Anaconda3\\lib\\site-packages\\numpy\\lib\\npyio.py\u001b[0m in \u001b[0;36mgenfromtxt\u001b[1;34m(fname, dtype, comments, delimiter, skip_header, skip_footer, converters, missing_values, filling_values, usecols, names, excludelist, deletechars, replace_space, autostrip, case_sensitive, defaultfmt, unpack, usemask, loose, invalid_raise, max_rows, encoding)\u001b[0m\n\u001b[0;32m   2029\u001b[0m             \u001b[1;31m# Raise an exception ?\u001b[0m\u001b[1;33m\u001b[0m\u001b[1;33m\u001b[0m\u001b[0m\n\u001b[0;32m   2030\u001b[0m             \u001b[1;32mif\u001b[0m \u001b[0minvalid_raise\u001b[0m\u001b[1;33m:\u001b[0m\u001b[1;33m\u001b[0m\u001b[0m\n\u001b[1;32m-> 2031\u001b[1;33m                 \u001b[1;32mraise\u001b[0m \u001b[0mValueError\u001b[0m\u001b[1;33m(\u001b[0m\u001b[0merrmsg\u001b[0m\u001b[1;33m)\u001b[0m\u001b[1;33m\u001b[0m\u001b[0m\n\u001b[0m\u001b[0;32m   2032\u001b[0m             \u001b[1;31m# Issue a warning ?\u001b[0m\u001b[1;33m\u001b[0m\u001b[1;33m\u001b[0m\u001b[0m\n\u001b[0;32m   2033\u001b[0m             \u001b[1;32melse\u001b[0m\u001b[1;33m:\u001b[0m\u001b[1;33m\u001b[0m\u001b[0m\n",
      "\u001b[1;31mValueError\u001b[0m: Some errors were detected !\n    Line #2 (got 22 columns instead of 21)\n    Line #3 (got 22 columns instead of 21)\n    Line #4 (got 22 columns instead of 21)\n    Line #5 (got 22 columns instead of 21)\n    Line #6 (got 22 columns instead of 21)\n    Line #7 (got 22 columns instead of 21)\n    Line #8 (got 22 columns instead of 21)\n    Line #9 (got 22 columns instead of 21)\n    Line #10 (got 22 columns instead of 21)\n    Line #11 (got 22 columns instead of 21)"
     ]
    }
   ],
   "source": [
    "marathon = np.genfromtxt('data/marathon_boston_2017_test.csv', delimiter=',')\n",
    "print(marathon)\n",
    "#df=pd.read_csv('data/marathon_boston_results_2017.csv', sep=',',header=None)\n",
    "#df.values"
   ]
  },
  {
   "cell_type": "code",
   "execution_count": 24,
   "metadata": {},
   "outputs": [
    {
     "data": {
      "text/plain": [
       "array([['index', 'Bib', 'Name', 'Age', 'Gender', 'City', 'Country', '5K',\n",
       "        '10K', '15K', '20K', 'Half', '25K', '30K', '35K', '40K', 'Pace',\n",
       "        'Official Time', 'Overall', 'Gender', 'Division'],\n",
       "       ['0', '11', 'Kirui, Geoffrey', '24', 'M', 'Keringet', 'KEN',\n",
       "        '0:15:25', '0:30:28', '0:45:44', '1:01:15', '1:04:35', '1:16:59',\n",
       "        '1:33:01', '1:48:19', '2:02:53', '0:04:57', '2:09:37', '1', '1',\n",
       "        '1'],\n",
       "       ['1', '17', 'Rupp, Galen', '30', 'M', 'Portland', 'USA',\n",
       "        '0:15:24', '0:30:27', '0:45:44', '1:01:15', '1:04:35', '1:16:59',\n",
       "        '1:33:01', '1:48:19', '2:03:14', '0:04:58', '2:09:58', '2', '2',\n",
       "        '2'],\n",
       "       ['2', '23', 'Osako, Suguru', '25', 'M', 'Machida-City', 'JPN',\n",
       "        '0:15:25', '0:30:29', '0:45:44', '1:01:16', '1:04:36', '1:17:00',\n",
       "        '1:33:01', '1:48:31', '2:03:38', '0:04:59', '2:10:28', '3', '3',\n",
       "        '3'],\n",
       "       ['3', '21', 'Biwott, Shadrack', '32', 'M', 'Mammoth Lakes', 'USA',\n",
       "        '0:15:25', '0:30:29', '0:45:44', '1:01:19', '1:04:45', '1:17:00',\n",
       "        '1:33:01', '1:48:58', '2:04:35', '0:05:03', '2:12:08', '4', '4',\n",
       "        '4'],\n",
       "       ['4', '9', 'Chebet, Wilson', '31', 'M', 'Marakwet', 'KEN',\n",
       "        '0:15:25', '0:30:28', '0:45:44', '1:01:15', '1:04:35', '1:16:59',\n",
       "        '1:33:01', '1:48:41', '2:05:00', '0:05:04', '2:12:35', '5', '5',\n",
       "        '5'],\n",
       "       ['5', '15', 'Abdirahman, Abdi', '40', 'M', 'Phoenix', 'USA',\n",
       "        '0:15:25', '0:30:28', '0:45:44', '1:01:15', '1:04:35', '1:16:59',\n",
       "        '1:33:01', '1:48:52', '2:05:21', '0:05:04', '2:12:45', '6', '6',\n",
       "        '1'],\n",
       "       ['6', '63', 'Maiyo, Augustus K.', '33', 'M', 'Colorado Springs',\n",
       "        'USA', '0:15:25', '0:30:29', '0:45:44', '1:01:15', '1:04:36',\n",
       "        '1:17:00', '1:33:01', '1:49:06', '2:05:41', '0:05:05', '2:13:16',\n",
       "        '7', '7', '6'],\n",
       "       ['7', '7', 'Sefir, Dino', '28', 'M', 'Addis Ababa', 'ETH',\n",
       "        '0:15:24', '0:30:28', '0:46:13', '1:02:35', '1:06:04', '1:18:36',\n",
       "        '1:34:52', '1:51:11', '2:07:09', '0:05:08', '2:14:26', '8', '8',\n",
       "        '7'],\n",
       "       ['8', '18', 'Puskedra, Luke', '27', 'M', 'Eugene', 'USA',\n",
       "        '0:15:24', '0:30:29', '0:45:47', '1:01:28', '1:04:53', '1:17:26',\n",
       "        '1:34:05', '1:50:53', '2:07:17', '0:05:09', '2:14:45', '9', '9',\n",
       "        '8'],\n",
       "       ['9', '20', 'Ward, Jared', '28', 'M', 'Kaysville', 'USA',\n",
       "        '0:15:25', '0:30:30', '0:45:47', '1:01:28', '1:04:53', '1:17:17',\n",
       "        '1:33:49', '1:50:44', '2:07:54', '0:05:11', '2:15:28', '10',\n",
       "        '10', '9']], dtype=object)"
      ]
     },
     "execution_count": 24,
     "metadata": {},
     "output_type": "execute_result"
    }
   ],
   "source": [
    "df=pd.read_csv('data/marathon_boston_2017_test.csv', sep=',',header=None)\n",
    "df.values"
   ]
  }
 ],
 "metadata": {
  "kernelspec": {
   "display_name": "Python 3",
   "language": "python",
   "name": "python3"
  },
  "language_info": {
   "codemirror_mode": {
    "name": "ipython",
    "version": 3
   },
   "file_extension": ".py",
   "mimetype": "text/x-python",
   "name": "python",
   "nbconvert_exporter": "python",
   "pygments_lexer": "ipython3",
   "version": "3.7.0"
  }
 },
 "nbformat": 4,
 "nbformat_minor": 2
}
