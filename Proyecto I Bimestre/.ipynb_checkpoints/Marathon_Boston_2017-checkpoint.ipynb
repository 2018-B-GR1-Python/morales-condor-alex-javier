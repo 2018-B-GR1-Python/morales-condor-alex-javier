{
 "cells": [
  {
   "cell_type": "code",
   "execution_count": 7,
   "metadata": {},
   "outputs": [],
   "source": [
    "import numpy as np\n",
    "import pandas as pd"
   ]
  },
  {
   "cell_type": "code",
   "execution_count": 9,
   "metadata": {},
   "outputs": [
    {
     "data": {
      "text/plain": [
       "array([[nan, 'Bib', 'Name', ..., 'Overall', 'Gender', 'Division'],\n",
       "       [0.0, '11', 'Kirui, Geoffrey', ..., '1', '1', '1'],\n",
       "       [1.0, '17', 'Rupp, Galen', ..., '2', '2', '2'],\n",
       "       ...,\n",
       "       [26407.0, '27086', 'Hantel, Johanna', ..., '26409', '11973',\n",
       "        '698'],\n",
       "       [26408.0, '25268', 'Reilly, Bill', ..., '26410', '14437', '1043'],\n",
       "       [26409.0, '25266', 'Rigsby, Scott', ..., '26411', '14438', '2553']],\n",
       "      dtype=object)"
      ]
     },
     "execution_count": 9,
     "metadata": {},
     "output_type": "execute_result"
    }
   ],
   "source": [
    "#marathon = np.genfromtxt('data/marathon_boston_results_2017.csv', delimiter=',')\n",
    "#print(marathon)\n",
    "df=pd.read_csv('data/marathon_boston_results_2017.csv', sep=',',header=None)\n",
    "df.values"
   ]
  },
  {
   "cell_type": "code",
   "execution_count": null,
   "metadata": {},
   "outputs": [],
   "source": []
  }
 ],
 "metadata": {
  "kernelspec": {
   "display_name": "Python 3",
   "language": "python",
   "name": "python3"
  },
  "language_info": {
   "codemirror_mode": {
    "name": "ipython",
    "version": 3
   },
   "file_extension": ".py",
   "mimetype": "text/x-python",
   "name": "python",
   "nbconvert_exporter": "python",
   "pygments_lexer": "ipython3",
   "version": "3.7.0"
  }
 },
 "nbformat": 4,
 "nbformat_minor": 2
}
